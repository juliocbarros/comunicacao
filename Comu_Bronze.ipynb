{
 "cells": [
  {
   "cell_type": "code",
   "execution_count": 0,
   "metadata": {
    "application/vnd.databricks.v1+cell": {
     "cellMetadata": {
      "byteLimit": 2048000,
      "rowLimit": 10000
     },
     "inputWidgets": {},
     "nuid": "f31a38fd-eac9-45a0-a72b-7134a362d64f",
     "showTitle": false,
     "tableResultSettingsMap": {},
     "title": ""
    }
   },
   "outputs": [],
   "source": [
    "\n",
    "\n",
    "df_bronze = spark.read.parquet(\"/Volumes/comunicacao/comunicacao/bronze/stream_dados.parquet/\")\n",
    "display(df_bronze)\n",
    "\n"
   ]
  },
  {
   "cell_type": "code",
   "execution_count": 0,
   "metadata": {
    "application/vnd.databricks.v1+cell": {
     "cellMetadata": {
      "byteLimit": 2048000,
      "rowLimit": 10000
     },
     "inputWidgets": {},
     "nuid": "c45e420e-cd8c-4134-b901-870c433d3025",
     "showTitle": false,
     "tableResultSettingsMap": {},
     "title": ""
    }
   },
   "outputs": [],
   "source": [
    "df_celular = df_bronze.filter(df_bronze['Dispositivo de acesso'] == 'Celular')\n",
    "display(df_celular)"
   ]
  },
  {
   "cell_type": "code",
   "execution_count": 0,
   "metadata": {
    "application/vnd.databricks.v1+cell": {
     "cellMetadata": {
      "byteLimit": 2048000,
      "rowLimit": 10000
     },
     "inputWidgets": {},
     "nuid": "8bd10e67-8bfd-4d93-955c-a48e66bb201f",
     "showTitle": false,
     "tableResultSettingsMap": {},
     "title": ""
    }
   },
   "outputs": [],
   "source": [
    "from pyspark.sql.functions import col\n",
    "\n",
    "def padronizar_colunas(df_celular):\n",
    "    novas_colunas = [c.replace(\" \", \"_\") for c in df_celular.columns]\n",
    "    for antiga, nova in zip(df_celular.columns, novas_colunas):\n",
    "        df_celular = df_celular.withColumnRenamed(antiga, nova)\n",
    "    return df_celular\n"
   ]
  },
  {
   "cell_type": "code",
   "execution_count": 0,
   "metadata": {
    "application/vnd.databricks.v1+cell": {
     "cellMetadata": {
      "byteLimit": 2048000,
      "rowLimit": 10000
     },
     "inputWidgets": {},
     "nuid": "7880fc62-8023-4174-822c-102b77b5f0cb",
     "showTitle": false,
     "tableResultSettingsMap": {},
     "title": ""
    }
   },
   "outputs": [],
   "source": [
    "df_cel = padronizar_colunas(df_celular)\n"
   ]
  },
  {
   "cell_type": "code",
   "execution_count": 0,
   "metadata": {
    "application/vnd.databricks.v1+cell": {
     "cellMetadata": {
      "byteLimit": 2048000,
      "rowLimit": 10000
     },
     "inputWidgets": {},
     "nuid": "883a205c-075a-423b-bec9-eadd5d85be12",
     "showTitle": false,
     "tableResultSettingsMap": {},
     "title": ""
    }
   },
   "outputs": [],
   "source": [
    "display(df_cel)"
   ]
  },
  {
   "cell_type": "code",
   "execution_count": 0,
   "metadata": {
    "application/vnd.databricks.v1+cell": {
     "cellMetadata": {},
     "inputWidgets": {},
     "nuid": "fbd2ee03-0076-47b4-84e7-b404d65ef581",
     "showTitle": false,
     "tableResultSettingsMap": {},
     "title": ""
    }
   },
   "outputs": [],
   "source": [
    "# Nome da tabela (registrada no metastore)\n",
    "nome_tabela = \"comunicacao.bronze.bronze_celular\"\n",
    "\n",
    "# Caminho físico onde os dados Delta são armazenados\n",
    "caminho_delta = \"/Volumes/comunicacao/comunicacao/bronze/bronze_celular\"\n",
    "\n",
    "# Dados novos (df_novos pode vir de transformação, leitura, etc.)\n",
    "# Exemplo:\n",
    "# df_novos = spark.read.parquet(\"...\")  ou gerado dinamicamente\n",
    "df_novos = spark.createDataFrame([], schema=\"...\")  # substitua com seu DataFrame real\n",
    "\n",
    "# Verifica se a tabela existe no metastore\n",
    "if spark._jsparkSession.catalog().tableExists(nome_tabela):\n",
    "    print(\"✅ Tabela já existe. Inserindo novos dados (append).\")\n",
    "    df_novos.write \\\n",
    "        .format(\"delta\") \\\n",
    "        .mode(\"append\") \\\n",
    "        .save(caminho_delta)\n",
    "else:\n",
    "    print(\"📌 Tabela não existe. Criando com overwrite.\")\n",
    "    df_novos.write \\\n",
    "        .format(\"delta\") \\\n",
    "        .mode(\"overwrite\") \\\n",
    "        .save(caminho_delta)\n",
    "\n",
    "    # Registra no catálogo (opcional, mas recomendado)\n",
    "    spark.sql(f\"\"\"\n",
    "        CREATE TABLE IF NOT EXISTS {nome_tabela}\n",
    "        USING DELTA\n",
    "        LOCATION '{caminho_delta}'\n",
    "    \"\"\")\n"
   ]
  },
  {
   "cell_type": "code",
   "execution_count": 0,
   "metadata": {
    "application/vnd.databricks.v1+cell": {
     "cellMetadata": {
      "byteLimit": 2048000,
      "rowLimit": 10000
     },
     "inputWidgets": {},
     "nuid": "d2eebb93-c20f-43bc-a8db-743ff486eba8",
     "showTitle": false,
     "tableResultSettingsMap": {},
     "title": ""
    }
   },
   "outputs": [],
   "source": [
    "\n",
    "df_cel.write.format(\"delta\").mode(\"overwrite\").save(\"/Volumes/comunicacao/comunicacao/bronze/bronze_celular\")"
   ]
  },
  {
   "cell_type": "code",
   "execution_count": 0,
   "metadata": {
    "application/vnd.databricks.v1+cell": {
     "cellMetadata": {
      "byteLimit": 2048000,
      "rowLimit": 10000
     },
     "inputWidgets": {},
     "nuid": "9ebd154f-63ea-4173-8942-012fe286eb90",
     "showTitle": false,
     "tableResultSettingsMap": {},
     "title": ""
    }
   },
   "outputs": [],
   "source": [
    "df = spark.read.format(\"delta\").load(\"/Volumes/comunicacao/comunicacao/bronze/bronze_celular/\")\n",
    "display(df)\n",
    "\n",
    "\n"
   ]
  },
  {
   "cell_type": "code",
   "execution_count": 0,
   "metadata": {
    "application/vnd.databricks.v1+cell": {
     "cellMetadata": {},
     "inputWidgets": {},
     "nuid": "b6c3d736-db7a-4a89-b4e6-1a3c5540b009",
     "showTitle": false,
     "tableResultSettingsMap": {},
     "title": ""
    }
   },
   "outputs": [],
   "source": []
  }
 ],
 "metadata": {
  "application/vnd.databricks.v1+notebook": {
   "computePreferences": null,
   "dashboards": [],
   "environmentMetadata": {
    "base_environment": "",
    "environment_version": "2"
   },
   "inputWidgetPreferences": null,
   "language": "python",
   "notebookMetadata": {
    "pythonIndentUnit": 4
   },
   "notebookName": "Comu_Bronze",
   "widgets": {}
  },
  "language_info": {
   "name": "python"
  }
 },
 "nbformat": 4,
 "nbformat_minor": 0
}
